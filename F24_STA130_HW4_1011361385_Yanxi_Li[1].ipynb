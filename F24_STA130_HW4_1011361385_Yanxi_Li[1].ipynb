{
 "cells": [
  {
   "cell_type": "markdown",
   "id": "b9f0311c",
   "metadata": {},
   "source": [
    "### 1. The \"Pre-lecture\" video (above) mentioned the \"standard error of the mean\" as being the \"standard deviation\" of the distribution bootstrapped means.  What is the difference between the \"standard error of the mean\" and the \"standard deviation\" of the original data? What distinct ideas do each of these capture? Explain this concisely in your own words.<br>"
   ]
  },
  {
   "cell_type": "markdown",
   "id": "e4358e97",
   "metadata": {},
   "source": [
    "The \"standard deviation\" of the original data measures how spread out the individual data points are around the mean. It gives us an idea of the variability in our dataset.\n",
    "\n",
    "The \"standard error of the mean\" specifically measures how much the sample mean is expected to vary from the true population mean. It’s essentially the standard deviation of the sample means we would get if we repeatedly sampled from the population.\n",
    "\n",
    "So, while standard deviation focuses on the spread of individual data points, the standard error of the mean focuses on the reliability of the sample mean as an estimate of the population mean."
   ]
  },
  {
   "cell_type": "markdown",
   "id": "b83326dd",
   "metadata": {},
   "source": [
    "### 2. The \"Pre-lecture\" video (above) suggested that the \"standard error of the mean\" could be used to create a confidence interval, but didn't describe exactly how to do this.  How can we use the \"standard error of the mean\" to create a 95% confidence interval which \"covers 95% of the bootstrapped sample means\"? Explain this concisely in your own words.<br>"
   ]
  },
  {
   "cell_type": "markdown",
   "id": "60818550",
   "metadata": {},
   "source": [
    "Firstly, calculate the mean of the original sample dataset. Secondly, compute the standard error of the mean by using the standard deviation of our sample divided by the square root of the sample size. Thirdly, determine the margin of error, multiply the standard error of the mean by the critical value for a 95% confidence level(typically around 1.96 for a normal distribution). Finally, calculate the confidence interval, add and subtract the margin of error from the sample mean.\n",
    "\n"
   ]
  },
  {
   "cell_type": "markdown",
   "id": "3b2296e1",
   "metadata": {},
   "source": [
    "### 3. Creating the \"sample mean plus and minus about 2 times the standard error\" confidence interval addressed in the previous problem should indeed cover approximately 95% of the bootstrapped sample means. Alternatively, how do we create a 95% bootstrapped confidence interval using the bootstrapped means (without using their standard deviation to estimate the standard error of the mean)? Explain this concisely in your own words.<br>"
   ]
  },
  {
   "cell_type": "markdown",
   "id": "bdca199b",
   "metadata": {},
   "source": [
    "We can use the percentile method. Firstly, resample the original dataset with replacement to create a large number of bootstrap samples. Secondly, calculate the mean for each resample to create a distribution of bootstrapped sample means. Thirdly, sort the bootstrapped means, order them from smallest to largest. Finally, find the 2.5th percentile and the 97.5th percentile of the sorted bootstrapped means."
   ]
  },
  {
   "cell_type": "markdown",
   "id": "28ff3da8",
   "metadata": {},
   "source": [
    "### 4. The \"Pre-lecture\" video (above) mentioned that bootstrap confidence intervals could apply to other statistics of the sample, such as the \"median\". Work with a ChatBot to create code to produce a 95% bootstrap confidence interval for a population mean based on a sample that you have and comment the code to demonstrate how the code can be changed to produce a 95% bootstrap confidence interval for different population parameter (other than the population mean, such as the population median).<br>"
   ]
  },
  {
   "cell_type": "code",
   "execution_count": 1,
   "id": "c1c5311d",
   "metadata": {},
   "outputs": [
    {
     "name": "stdout",
     "output_type": "stream",
     "text": [
      "95% Bootstrap Confidence Interval for the Mean: [6.500, 7.940]\n",
      "95% Bootstrap Confidence Interval for the Median: [6.350, 8.200]\n"
     ]
    }
   ],
   "source": [
    "import numpy as np\n",
    "\n",
    "# Sample data (replace with your actual data)\n",
    "data = np.array([5.1, 7.3, 8.2, 6.8, 9.1, 7.7, 5.9, 6.4, 7.5, 8.3])\n",
    "\n",
    "# Number of bootstrap samples\n",
    "n_bootstrap = 10000\n",
    "\n",
    "# Bootstrap resampling\n",
    "bootstrap_means = []\n",
    "for _ in range(n_bootstrap):\n",
    "    # Resample with replacement\n",
    "    sample = np.random.choice(data, size=len(data), replace=True)\n",
    "    # Calculate mean of the resample\n",
    "    bootstrap_means.append(np.mean(sample))\n",
    "\n",
    "# Convert list to numpy array for easier percentile calculation\n",
    "bootstrap_means = np.array(bootstrap_means)\n",
    "\n",
    "# Calculate the 95% confidence interval (2.5th and 97.5th percentiles)\n",
    "ci_lower = np.percentile(bootstrap_means, 2.5)\n",
    "ci_upper = np.percentile(bootstrap_means, 97.5)\n",
    "\n",
    "# Output the confidence interval for the mean\n",
    "print(f\"95% Bootstrap Confidence Interval for the Mean: [{ci_lower:.3f}, {ci_upper:.3f}]\")\n",
    "\n",
    "# To modify for the median (or any other statistic):\n",
    "# 1. Replace np.mean(sample) with the desired statistic, like np.median(sample)\n",
    "# 2. Here’s an example of how to do it for the median:\n",
    "\n",
    "# Bootstrap resampling for the median\n",
    "bootstrap_medians = []\n",
    "for _ in range(n_bootstrap):\n",
    "    sample = np.random.choice(data, size=len(data), replace=True)\n",
    "    # Calculate median of the resample instead of the mean\n",
    "    bootstrap_medians.append(np.median(sample))\n",
    "\n",
    "# Convert list to numpy array for easier percentile calculation\n",
    "bootstrap_medians = np.array(bootstrap_medians)\n",
    "\n",
    "# Calculate the 95% confidence interval for the median (2.5th and 97.5th percentiles)\n",
    "ci_lower_median = np.percentile(bootstrap_medians, 2.5)\n",
    "ci_upper_median = np.percentile(bootstrap_medians, 97.5)\n",
    "\n",
    "# Output the confidence interval for the median\n",
    "print(f\"95% Bootstrap Confidence Interval for the Median: [{ci_lower_median:.3f}, {ci_upper_median:.3f}]\")\n"
   ]
  },
  {
   "cell_type": "markdown",
   "id": "a55b1f25",
   "metadata": {},
   "source": [
    "Explanation:"
   ]
  },
  {
   "cell_type": "markdown",
   "id": "8af8ceee",
   "metadata": {},
   "source": [
    "Data: Replace data with the actual dataset.\n",
    "\n",
    "Bootstrap Resampling: The code resamples the data (with replacement) n_bootstrap times, calculates the sample statistic (mean or median), and stores it.\n",
    "\n",
    "Percentile Method: After collecting the bootstrapped sample statistics (means or medians), the 95% confidence interval is calculated by finding the 2.5th and 97.5th percentiles of the bootstrapped statistic."
   ]
  },
  {
   "cell_type": "markdown",
   "id": "f842af1d",
   "metadata": {},
   "source": [
    "Modification:"
   ]
  },
  {
   "cell_type": "markdown",
   "id": "5db00f01",
   "metadata": {},
   "source": [
    "We can change the statistic computed for each resample."
   ]
  },
  {
   "cell_type": "markdown",
   "id": "933a6139",
   "metadata": {},
   "source": [
    "Mean:"
   ]
  },
  {
   "cell_type": "code",
   "execution_count": 2,
   "id": "1c348b40",
   "metadata": {},
   "outputs": [
    {
     "data": {
      "text/plain": [
       "6.85"
      ]
     },
     "execution_count": 2,
     "metadata": {},
     "output_type": "execute_result"
    }
   ],
   "source": [
    "np.mean(sample)"
   ]
  },
  {
   "cell_type": "markdown",
   "id": "52dcb118",
   "metadata": {},
   "source": [
    "Median:"
   ]
  },
  {
   "cell_type": "code",
   "execution_count": 3,
   "id": "83bf5b9a",
   "metadata": {},
   "outputs": [
    {
     "data": {
      "text/plain": [
       "6.85"
      ]
     },
     "execution_count": 3,
     "metadata": {},
     "output_type": "execute_result"
    }
   ],
   "source": [
    "np.median(sample)"
   ]
  },
  {
   "cell_type": "markdown",
   "id": "99d218d5",
   "metadata": {},
   "source": [
    "Other statistics: "
   ]
  },
  {
   "cell_type": "code",
   "execution_count": 4,
   "id": "042aab3b",
   "metadata": {},
   "outputs": [
    {
     "data": {
      "text/plain": [
       "1.3017296186228537"
      ]
     },
     "execution_count": 4,
     "metadata": {},
     "output_type": "execute_result"
    }
   ],
   "source": [
    "np.std(sample)"
   ]
  },
  {
   "cell_type": "markdown",
   "id": "f2687523",
   "metadata": {},
   "source": [
    "for the standard deviation"
   ]
  },
  {
   "cell_type": "code",
   "execution_count": 5,
   "id": "6c0ede45",
   "metadata": {},
   "outputs": [
    {
     "data": {
      "text/plain": [
       "7.7"
      ]
     },
     "execution_count": 5,
     "metadata": {},
     "output_type": "execute_result"
    }
   ],
   "source": [
    "np.percentile(sample, 75)"
   ]
  },
  {
   "cell_type": "markdown",
   "id": "8c062b7b",
   "metadata": {},
   "source": [
    "for the 75th percentile"
   ]
  },
  {
   "cell_type": "markdown",
   "id": "f9b79c8c",
   "metadata": {},
   "source": [
    "### 5. The previous question addresses making a confidence interval for a population parameter based on a sample statistic. Why do we need to distinguish between the role of the popualation parameter and the sample sample statistic when it comes to confidence intervals? Explain this concisely in your own words.<br>"
   ]
  },
  {
   "cell_type": "markdown",
   "id": "f061530b",
   "metadata": {},
   "source": [
    "Distinguishing between the population parameter and the sample statistic is crucial for understanding confidence intervals because the population parameter represents the true value we want to estimate, while the sample statistic is the value calculated from our sample data. The confidence interval provides a range of plausible values for the population parameter based on the variability and uncertainty inherent in the sample. This distinction highlights that our estimates are not exact and that we account for potential error when making inferences about the entire population."
   ]
  },
  {
   "cell_type": "markdown",
   "id": "7e375552",
   "metadata": {},
   "source": [
    "### 6. Provide written answers explaining the answers to the following questions in an informal manner of a conversation with a friend with little experience with statistics. <br>"
   ]
  },
  {
   "cell_type": "markdown",
   "id": "5355e8bb",
   "metadata": {},
   "source": [
    "1. What is the process of bootstrapping?"
   ]
  },
  {
   "cell_type": "markdown",
   "id": "202e45e2",
   "metadata": {},
   "source": [
    "Bootstrapping is a method of resampling your data to estimate how a statistic varies. For example, if you have a sample of 10 people's heights, you create many new samples by randomly picking from this group, allowing for repeats. Each new sample lets you calculate the average height again. By repeating this process 1,000 or more times, you get many different averages, showing how much the statistic can change. This helps you understand how reliable your original average height is."
   ]
  },
  {
   "cell_type": "markdown",
   "id": "437df7e6",
   "metadata": {},
   "source": [
    "2. What is the main purpose of bootstrapping?"
   ]
  },
  {
   "cell_type": "markdown",
   "id": "e90a31fa",
   "metadata": {},
   "source": [
    "The main goal of bootstrapping is to estimate the uncertainty in a statistic, like the mean or median. It helps us understand how confident we can be about our sample results without needing more data. Instead of relying on complex formulas that assume certain conditions (like normal distribution), bootstrapping uses the data we already have. It demonstrates how much a statistic can vary by taking different samples from the same population."
   ]
  },
  {
   "cell_type": "markdown",
   "id": "1f390084",
   "metadata": {},
   "source": [
    "3. If you had a (hypothesized) guess about what the average of a population was, and you had a sample of size n from that population, how could you use bootstrapping to assess whether or not your (hypothesized) guess might be plausible?"
   ]
  },
  {
   "cell_type": "markdown",
   "id": "be8bf743",
   "metadata": {},
   "source": [
    "If you guess that the average height in a population is 175 cm but only have a sample of 100 people, you can use bootstrapping to test your guess. \n",
    "\n",
    "First, create many resamples (like 1,000) from your original sample and calculate the average height for each. This gives you a distribution of possible sample means, showing how they can vary. \n",
    "\n",
    "Next, see where your guess of 175 cm falls in this distribution. If it's within the typical range of bootstrapped averages, your guess might be reasonable. If it's far outside that range, it's likely incorrect."
   ]
  },
  {
   "cell_type": "markdown",
   "id": "c2f03c93",
   "metadata": {},
   "source": [
    "### 7. The \"Pre-lecture\" video (above) introduced hypothesis testing by saying that \"the confidence interval covers zero, so we cannot reject the hypothesis that the drug is **[on average]** not doing anything\".  This conclusion could be referred to as \"failing to reject the null hypothesis\", where the term \"null\" refers to the concept of \"no effect **[on average]**\".  Why does a confidence interval overlapping zero \"fail to reject the null hypothesis\" when the observed sample mean statistic itself is not zero? Alternatively, what would lead to the opposite conclusion in this context; namely, instead choosing \"to reject the null hypothesis\"? Explain the answers to these questions concisely in your own words.<br>"
   ]
  },
  {
   "cell_type": "markdown",
   "id": "81705cb9",
   "metadata": {},
   "source": [
    "If a confidence interval includes zero, it means the true effect could be zero, suggesting the drug may not work. This leads us to \"fail to reject the null hypothesis,\" which assumes no effect.\n",
    "\n",
    "If the confidence interval does not include zero, it suggests the drug likely has an effect. In this case, we can reject the null hypothesis and conclude the drug is making a difference."
   ]
  },
  {
   "cell_type": "markdown",
   "id": "fd7ad700",
   "metadata": {},
   "source": [
    "### 8. Complete the following assignment. "
   ]
  },
  {
   "cell_type": "markdown",
   "id": "782d6869",
   "metadata": {},
   "source": [
    "1. Problem Introduction\n",
    "\n",
    "The goal is to assess whether the new vaccine developed by AliTech is effective. The effectiveness will be evaluated by comparing the patients' initial and final health scores after receiving the vaccine.\n",
    "\n",
    "Null Hypothesis: There is no significant effect of the vaccine on patients' health, meaning the difference between initial and final health scores is zero on average. Alternative Hypothesis: The vaccine has a significant effect on improving patients' health, so the difference between the initial and final health scores is not zero.\n",
    "\n",
    "Data Visualization\n",
    "\n",
    "Begin by creating visual representations to understand the data distribution and the difference between initial and final health scores.\n",
    "\n",
    "Boxplot of initial vs. final health scores.\n",
    "\n",
    "Histogram of the difference between final and initial health scores.\n",
    "\n",
    "Scatter plot showing individual patients' initial and final health scores."
   ]
  },
  {
   "cell_type": "markdown",
   "id": "0a93e691",
   "metadata": {},
   "source": [
    "2. Quantitative Analysis"
   ]
  },
  {
   "cell_type": "markdown",
   "id": "c79d61ca",
   "metadata": {},
   "source": [
    "The main approach to test the hypothesis could be done using bootstrapping or a paired t-test since the same individuals are tested before and after the vaccine. Bootstrapping will allow us to estimate the confidence interval of the difference between the initial and final scores."
   ]
  },
  {
   "cell_type": "code",
   "execution_count": 2,
   "id": "f1c7eb93",
   "metadata": {},
   "outputs": [
    {
     "data": {
      "image/png": "[encoded data removed]",
      "text/plain": [
       "<Figure size 800x600 with 1 Axes>"
      ]
     },
     "metadata": {},
     "output_type": "display_data"
    },
    {
     "data": {
      "image/png": "[encoded data removed]",
      "text/plain": [
       "<Figure size 640x480 with 1 Axes>"
      ]
     },
     "metadata": {},
     "output_type": "display_data"
    },
    {
     "name": "stdout",
     "output_type": "stream",
     "text": [
      "T-statistic: 2.5900615612703937, P-value: 0.02921052381549256\n",
      "95% confidence interval for the mean difference: [0.9 5.6]\n"
     ]
    }
   ],
   "source": [
    "import pandas as pd\n",
    "\n",
    "# Define the data\n",
    "data = {\n",
    "    \"PatientID\": [1, 2, 3, 4, 5, 6, 7, 8, 9, 10],\n",
    "    \"Age\": [45, 34, 29, 52, 37, 41, 33, 48, 26, 39],\n",
    "    \"Gender\": ['M', 'F', 'M', 'F', 'M', 'F', 'M', 'F', 'M', 'F'],\n",
    "    \"InitialHealthScore\": [84, 78, 83, 81, 81, 80, 79, 85, 76, 83],\n",
    "    \"FinalHealthScore\": [86, 86, 80, 86, 84, 86, 86, 82, 83, 84]\n",
    "}\n",
    "\n",
    "# Create a DataFrame\n",
    "df = pd.DataFrame(data)\n",
    "\n",
    "# Save it to a CSV file\n",
    "df.to_csv('vaccine_data.csv', index=False)\n",
    "\n",
    "import numpy as np\n",
    "import pandas as pd\n",
    "import matplotlib.pyplot as plt\n",
    "import seaborn as sns\n",
    "from scipy import stats\n",
    "\n",
    "# Read the CSV data\n",
    "data = pd.read_csv('vaccine_data.csv')\n",
    "\n",
    "# Visualizations\n",
    "# Boxplot of Initial vs Final Health Scores\n",
    "plt.figure(figsize=(8,6))\n",
    "sns.boxplot(data=[data['InitialHealthScore'], data['FinalHealthScore']])\n",
    "plt.xticks([0, 1], ['Initial Health Score', 'Final Health Score'])\n",
    "plt.title('Initial vs Final Health Scores')\n",
    "plt.show()\n",
    "\n",
    "# Difference in health scores\n",
    "data['HealthScoreDifference'] = data['FinalHealthScore'] - data['InitialHealthScore']\n",
    "\n",
    "# Histogram of the differences\n",
    "plt.hist(data['HealthScoreDifference'], bins=10, color='skyblue', edgecolor='black')\n",
    "plt.title('Difference in Health Scores (Final - Initial)')\n",
    "plt.xlabel('Difference in Health Scores')\n",
    "plt.ylabel('Frequency')\n",
    "plt.show()\n",
    "\n",
    "# Paired t-test\n",
    "t_stat, p_value = stats.ttest_rel(data['FinalHealthScore'], data['InitialHealthScore'])\n",
    "print(f\"T-statistic: {t_stat}, P-value: {p_value}\")\n",
    "\n",
    "# Bootstrapping to estimate the confidence interval of the difference\n",
    "np.random.seed(42)  # For reproducibility\n",
    "n_iterations = 10000\n",
    "means_diff = []\n",
    "\n",
    "for _ in range(n_iterations):\n",
    "    sample = data.sample(frac=1, replace=True)\n",
    "    mean_diff = sample['HealthScoreDifference'].mean()\n",
    "    means_diff.append(mean_diff)\n",
    "\n",
    "confidence_interval = np.percentile(means_diff, [2.5, 97.5])\n",
    "print(f\"95% confidence interval for the mean difference: {confidence_interval}\")\n"
   ]
  },
  {
   "cell_type": "markdown",
   "id": "b3253473",
   "metadata": {},
   "source": [
    "Methodology Explanation:\n",
    "\n",
    "Paired t-test: Since we have dependent data (initial and final scores from the same patients), a paired t-test is suitable for comparing the means of the two related groups.\n",
    "\n",
    "Bootstrapping: This method involves resampling with replacement and helps estimate the mean difference and confidence intervals."
   ]
  },
  {
   "cell_type": "markdown",
   "id": "7cbe6fd0",
   "metadata": {},
   "source": [
    "3. Findings and Discussion\n",
    "\n",
    "Visual Insights: Comment on the visualizations—are there visible differences between initial and final scores?\n",
    "\n",
    "Test Results: If the p-value from the t-test is less than the significance level (usually 0.05), we reject the null hypothesis. Otherwise, we fail to reject it.\n",
    "\n",
    "Bootstrapping Results: The confidence interval should either include zero or exclude zero."
   ]
  },
  {
   "cell_type": "markdown",
   "id": "e6ad60f7",
   "metadata": {},
   "source": [
    "4. Conclusion\n",
    "\n",
    "Based on the statistical analysis, you can conclude whether the vaccine has a significant effect on patients' health. Summarize the key findings and how they relate to the null hypothesis.If we think about it further, could there be other variables (e.g., age, gender) affecting the outcome? And what would additional data reveal?"
   ]
  },
  {
   "cell_type": "markdown",
   "id": "391480d7",
   "metadata": {},
   "source": [
    "### 9. Have you reviewed the course wiki-textbook and interacted with a ChatBot (or, if that wasn't sufficient, real people in the course piazza discussion board or TA office hours) to help you understand all the material in the tutorial and lecture that you didn't quite follow when you first saw it?<br>"
   ]
  },
  {
   "cell_type": "markdown",
   "id": "1a5f5a68",
   "metadata": {},
   "source": [
    "Yes!"
   ]
  },
  {
   "cell_type": "markdown",
   "id": "9d02be89",
   "metadata": {},
   "source": [
    "Here’s a summary of the homework assignment:\n",
    "\n",
    "1. Difference between Standard Error of the Mean (SEM) and Standard Deviation:\n",
    "\n",
    "SEM represents the variability of the sample mean if you took multiple samples from the population.\n",
    "Standard Deviation (SD) measures the variability of individual data points within a sample.\n",
    "While SD focuses on the spread of data points, SEM focuses on the precision of the sample mean as an estimate of the population mean.\n",
    "\n",
    "2. Creating a 95% Confidence Interval (CI) Using SEM:\n",
    "\n",
    "The formula assumes the distribution of sample means is approximately normal. The confidence interval tells us that we expect the true population mean to fall within this range 95% of the time.\n",
    "\n",
    "3. Creating a 95% Bootstrapped Confidence Interval Without SEM:\n",
    "\n",
    "Instead of relying on SEM, you can use the percentile method with bootstrapped sample means. By resampling the original data many times and calculating the mean for each resample, you can sort the means and take the 2.5th and 97.5th percentiles as the lower and upper bounds for the CI.\n",
    "\n",
    "This method doesn’t assume a normal distribution and directly uses the variability observed in the bootstrapped sample means.\n",
    "\n",
    "4. Bootstrapping Confidence Intervals for Other Statistics (e.g., Median):\n",
    "\n",
    "Bootstrapping can also be used to create CIs for statistics other than the mean (e.g., the median). In this case, instead of calculating the mean for each bootstrap sample, you would calculate the median and find the 2.5th and 97.5th percentiles of the bootstrapped medians.\n",
    "\n",
    "5. Why Distinguish Between Population Parameters and Sample Statistics in Confidence Intervals:\n",
    "\n",
    "Population parameters (like the true mean or median) are unknown values describing the whole population.\n",
    "\n",
    "Sample statistics are calculated from a subset of the population and used to estimate the population parameters.\n",
    "\n",
    "Confidence intervals provide a range within which the true population parameter is likely to lie, based on the sample statistic. \n",
    "\n",
    "Understanding this distinction is crucial because confidence intervals are not about the sample statistic itself, but about estimating the unknown population parameter.\n",
    "\n",
    "6. Explaining Bootstrapping and Its Purpose:\n",
    "\n",
    "Bootstrapping is a method where you resample your data many times (with replacement) and calculate a statistic (like the mean) for each resample. This creates a distribution of that statistic, which helps estimate the variability of the statistic.\n",
    "\n",
    "The main purpose is to assess how much a statistic (like the sample mean) might fluctuate and provide a confidence interval for the population parameter using the observed data.\n",
    "\n",
    "7. Using Bootstrapping to Assess a Hypothesized Population Mean:\n",
    "\n",
    "You can use bootstrapping to assess whether a hypothesized population mean is plausible. By bootstrapping the sample, you get a distribution of sample means. If the hypothesized value (e.g., 175 cm for average height) falls within this distribution (say, in the 95% CI), it’s plausible. If it doesn’t, the hypothesis might be rejected.\n",
    "\n",
    "8. Why a Confidence Interval Overlapping Zero Fails to Reject the Null Hypothesis:\n",
    "If a confidence interval includes zero, it means there’s a chance the true population effect could be zero (i.e., no effect). Even if the sample mean is not zero, the overlap suggests that the data isn’t strong enough to confidently reject the null hypothesis (which assumes no effect).\n",
    "\n",
    "To reject the null hypothesis, the confidence interval must exclude zero, implying that a zero effect is not plausible based on the sample data."
   ]
  },
  {
   "cell_type": "markdown",
   "id": "f42ab914",
   "metadata": {},
   "source": [
    "https://chatgpt.com/share/66ff5e72-6c84-8004-a0c5-13bb0c8ec64c   chat log histories"
   ]
  }
 ],
 "metadata": {
  "kernelspec": {
   "display_name": "Python 3 (ipykernel)",
   "language": "python",
   "name": "python3"
  },
  "language_info": {
   "codemirror_mode": {
    "name": "ipython",
    "version": 3
   },
   "file_extension": ".py",
   "mimetype": "text/x-python",
   "name": "python",
   "nbconvert_exporter": "python",
   "pygments_lexer": "ipython3",
   "version": "3.11.6"
  }
 },
 "nbformat": 4,
 "nbformat_minor": 5
}
